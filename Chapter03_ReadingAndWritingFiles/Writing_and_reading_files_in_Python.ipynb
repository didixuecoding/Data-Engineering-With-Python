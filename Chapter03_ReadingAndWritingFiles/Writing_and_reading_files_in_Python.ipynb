{
 "cells": [
  {
   "cell_type": "code",
   "execution_count": 12,
   "metadata": {},
   "outputs": [],
   "source": [
    "#pip install faker\r\n"
   ]
  },
  {
   "cell_type": "markdown",
   "metadata": {},
   "source": [
    "Writing and reading CSVs"
   ]
  },
  {
   "cell_type": "code",
   "execution_count": 2,
   "metadata": {},
   "outputs": [],
   "source": [
    "import csv\r\n",
    "\r\n",
    "output = open('myCSV.csv', mode = 'w')\r\n",
    "mywriter = csv.writer(output)\r\n",
    "header = ['name', 'age']\r\n",
    "mywriter.writerow(header)\r\n",
    "data = ['bob smith', 50]\r\n",
    "mywriter.writerow(data)\r\n",
    "output.close()\r\n",
    "\r\n",
    "# It will always overwrite the data into the csv files using the code above"
   ]
  },
  {
   "cell_type": "code",
   "execution_count": 5,
   "metadata": {},
   "outputs": [],
   "source": [
    "from faker import Faker\r\n",
    "import csv\r\n",
    "\r\n",
    "output=open('data.csv','w')\r\n",
    "fake=Faker()\r\n",
    "header=['name','age','street','city','state','zip','lng','lat']\r\n",
    "mywriter=csv.writer(output)\r\n",
    "mywriter.writerow(header)\r\n",
    "for r in range(1000):\r\n",
    "    mywriter.writerow([fake.name(),\r\n",
    "                       fake.random_int(min=18, max=80, step=1), \r\n",
    "                       fake.street_address(), \r\n",
    "                       fake.city(),\r\n",
    "                       fake.state(),\r\n",
    "                       fake.zipcode(),\r\n",
    "                       fake.longitude(),\r\n",
    "                       fake.latitude()])\r\n",
    "output.close()\r\n",
    "\r\n",
    "# Use Faker Libary to generate and write 1000 records into the data.csv"
   ]
  },
  {
   "cell_type": "code",
   "execution_count": null,
   "metadata": {},
   "outputs": [],
   "source": [
    "with open('data.csv') as f:\r\n",
    "    myreader = csv.DictReader(f)\r\n",
    "    headers = next(myreader)\r\n",
    "    for row in myreader:\r\n",
    "        print(row['name'])\r\n",
    "# It will show all 1000 fake names"
   ]
  },
  {
   "cell_type": "markdown",
   "metadata": {},
   "source": [
    "Reading and writing CSVs using pandas Dataframes"
   ]
  },
  {
   "cell_type": "code",
   "execution_count": 22,
   "metadata": {},
   "outputs": [
    {
     "data": {
      "text/html": [
       "<div>\n",
       "<style scoped>\n",
       "    .dataframe tbody tr th:only-of-type {\n",
       "        vertical-align: middle;\n",
       "    }\n",
       "\n",
       "    .dataframe tbody tr th {\n",
       "        vertical-align: top;\n",
       "    }\n",
       "\n",
       "    .dataframe thead th {\n",
       "        text-align: right;\n",
       "    }\n",
       "</style>\n",
       "<table border=\"1\" class=\"dataframe\">\n",
       "  <thead>\n",
       "    <tr style=\"text-align: right;\">\n",
       "      <th></th>\n",
       "      <th>name</th>\n",
       "      <th>age</th>\n",
       "      <th>street</th>\n",
       "      <th>city</th>\n",
       "      <th>state</th>\n",
       "      <th>zip</th>\n",
       "      <th>lng</th>\n",
       "      <th>lat</th>\n",
       "    </tr>\n",
       "  </thead>\n",
       "  <tbody>\n",
       "    <tr>\n",
       "      <th>0</th>\n",
       "      <td>James Stafford</td>\n",
       "      <td>73</td>\n",
       "      <td>876 Rivera Squares</td>\n",
       "      <td>Port Jason</td>\n",
       "      <td>New Hampshire</td>\n",
       "      <td>60025</td>\n",
       "      <td>-139.396710</td>\n",
       "      <td>-29.286733</td>\n",
       "    </tr>\n",
       "    <tr>\n",
       "      <th>1</th>\n",
       "      <td>Donald Davis</td>\n",
       "      <td>19</td>\n",
       "      <td>8587 Reed Light</td>\n",
       "      <td>Jamesberg</td>\n",
       "      <td>Connecticut</td>\n",
       "      <td>67789</td>\n",
       "      <td>-90.572524</td>\n",
       "      <td>-36.912299</td>\n",
       "    </tr>\n",
       "    <tr>\n",
       "      <th>2</th>\n",
       "      <td>Melissa Waters</td>\n",
       "      <td>35</td>\n",
       "      <td>676 Amy Ridges Suite 169</td>\n",
       "      <td>Timothychester</td>\n",
       "      <td>Maryland</td>\n",
       "      <td>79609</td>\n",
       "      <td>-51.498320</td>\n",
       "      <td>-5.750014</td>\n",
       "    </tr>\n",
       "    <tr>\n",
       "      <th>3</th>\n",
       "      <td>Taylor Floyd</td>\n",
       "      <td>28</td>\n",
       "      <td>082 Thomas Fall Apt. 746</td>\n",
       "      <td>North Samuel</td>\n",
       "      <td>Minnesota</td>\n",
       "      <td>55436</td>\n",
       "      <td>-65.241163</td>\n",
       "      <td>39.210252</td>\n",
       "    </tr>\n",
       "    <tr>\n",
       "      <th>4</th>\n",
       "      <td>April Rosario</td>\n",
       "      <td>58</td>\n",
       "      <td>0158 Pearson Curve Suite 438</td>\n",
       "      <td>Berryhaven</td>\n",
       "      <td>Colorado</td>\n",
       "      <td>67018</td>\n",
       "      <td>-40.637525</td>\n",
       "      <td>-80.300582</td>\n",
       "    </tr>\n",
       "    <tr>\n",
       "      <th>5</th>\n",
       "      <td>James Washington</td>\n",
       "      <td>78</td>\n",
       "      <td>0993 Daniel Pass</td>\n",
       "      <td>Doughertychester</td>\n",
       "      <td>Indiana</td>\n",
       "      <td>60402</td>\n",
       "      <td>-118.113337</td>\n",
       "      <td>73.274400</td>\n",
       "    </tr>\n",
       "    <tr>\n",
       "      <th>6</th>\n",
       "      <td>Benjamin Myers</td>\n",
       "      <td>50</td>\n",
       "      <td>7206 Brown Forks Suite 315</td>\n",
       "      <td>Lopezshire</td>\n",
       "      <td>Washington</td>\n",
       "      <td>41204</td>\n",
       "      <td>174.242569</td>\n",
       "      <td>55.528093</td>\n",
       "    </tr>\n",
       "    <tr>\n",
       "      <th>7</th>\n",
       "      <td>James Gallagher</td>\n",
       "      <td>77</td>\n",
       "      <td>296 John Overpass Suite 281</td>\n",
       "      <td>Jenniferborough</td>\n",
       "      <td>Arizona</td>\n",
       "      <td>59600</td>\n",
       "      <td>104.187945</td>\n",
       "      <td>77.776713</td>\n",
       "    </tr>\n",
       "    <tr>\n",
       "      <th>8</th>\n",
       "      <td>Eric Bell</td>\n",
       "      <td>29</td>\n",
       "      <td>069 Christopher Islands</td>\n",
       "      <td>Shermanfurt</td>\n",
       "      <td>New Mexico</td>\n",
       "      <td>7688</td>\n",
       "      <td>92.317440</td>\n",
       "      <td>12.251204</td>\n",
       "    </tr>\n",
       "    <tr>\n",
       "      <th>9</th>\n",
       "      <td>Michael Campbell</td>\n",
       "      <td>34</td>\n",
       "      <td>3769 Melissa Locks Apt. 848</td>\n",
       "      <td>West Ericstad</td>\n",
       "      <td>Alaska</td>\n",
       "      <td>71657</td>\n",
       "      <td>-65.085430</td>\n",
       "      <td>-20.421753</td>\n",
       "    </tr>\n",
       "  </tbody>\n",
       "</table>\n",
       "</div>"
      ],
      "text/plain": [
       "               name  age  ...         lng        lat\n",
       "0    James Stafford   73  ... -139.396710 -29.286733\n",
       "1      Donald Davis   19  ...  -90.572524 -36.912299\n",
       "2    Melissa Waters   35  ...  -51.498320  -5.750014\n",
       "3      Taylor Floyd   28  ...  -65.241163  39.210252\n",
       "4     April Rosario   58  ...  -40.637525 -80.300582\n",
       "5  James Washington   78  ... -118.113337  73.274400\n",
       "6    Benjamin Myers   50  ...  174.242569  55.528093\n",
       "7   James Gallagher   77  ...  104.187945  77.776713\n",
       "8         Eric Bell   29  ...   92.317440  12.251204\n",
       "9  Michael Campbell   34  ...  -65.085430 -20.421753\n",
       "\n",
       "[10 rows x 8 columns]"
      ]
     },
     "execution_count": 22,
     "metadata": {},
     "output_type": "execute_result"
    }
   ],
   "source": [
    "import pandas as pd\r\n",
    "\r\n",
    "df = pd.read_csv('data.csv')\r\n",
    "df.head(10)\r\n",
    "# read csv using pandas"
   ]
  },
  {
   "cell_type": "code",
   "execution_count": 3,
   "metadata": {},
   "outputs": [],
   "source": [
    "# write csv using pandas\r\n",
    "import pandas as pd\r\n",
    "\r\n",
    "data={'Name':['Paul','Bob','Susan','Yolanda'],'Age':[23,45,18,21]}\r\n",
    "df = pd.DataFrame(data)\r\n",
    "df.head(10)\r\n",
    "\r\n",
    "df.to_csv('fromdf.csv', index=False)\r\n"
   ]
  },
  {
   "cell_type": "markdown",
   "metadata": {},
   "source": [
    "Writing JSON with Python"
   ]
  },
  {
   "cell_type": "code",
   "execution_count": 24,
   "metadata": {},
   "outputs": [],
   "source": [
    "from faker import Faker\r\n",
    "import json\r\n",
    "\r\n",
    "output = open('data.json', 'w')\r\n",
    "fake = Faker()\r\n",
    "\r\n",
    "alldata = {}\r\n",
    "alldata['records'] = []\r\n",
    "\r\n",
    "for _ in range(1000):\r\n",
    "    data={\"name\":fake.name(),\r\n",
    "          \"age\":fake.random_int(min=18, max=80, step=1),\r\n",
    "          \"street\":fake.street_address(),\r\n",
    "          \"city\":fake.city(),\r\n",
    "          \"state\":fake.state(),\r\n",
    "          \"zip\":fake.zipcode(),\r\n",
    "          \"lng\":float(fake.longitude()),\r\n",
    "          \"lat\":float(fake.latitude())}\r\n",
    "    alldata['records'].append(data)\r\n",
    "\r\n",
    "json.dump(alldata, output)\r\n",
    "# Use Faker Libary to generate and write 1000 records into the data.json"
   ]
  },
  {
   "cell_type": "code",
   "execution_count": 25,
   "metadata": {},
   "outputs": [
    {
     "name": "stdout",
     "output_type": "stream",
     "text": [
      "{'name': 'Samantha Rodriguez', 'age': 19, 'street': '045 Russell Views Suite 342', 'city': 'South Jeffreyside', 'state': 'Connecticut', 'zip': '36709', 'lng': -118.148404, 'lat': -28.3180065}\n"
     ]
    }
   ],
   "source": [
    "with open('data.json', 'r') as f:\r\n",
    "    data = json.load(f)\r\n",
    "\r\n",
    "    print(data['records'][0])"
   ]
  },
  {
   "cell_type": "markdown",
   "metadata": {},
   "source": [
    "Reading and writing JSON with pandas DataFrames"
   ]
  },
  {
   "cell_type": "code",
   "execution_count": 26,
   "metadata": {},
   "outputs": [
    {
     "data": {
      "text/html": [
       "<div>\n",
       "<style scoped>\n",
       "    .dataframe tbody tr th:only-of-type {\n",
       "        vertical-align: middle;\n",
       "    }\n",
       "\n",
       "    .dataframe tbody tr th {\n",
       "        vertical-align: top;\n",
       "    }\n",
       "\n",
       "    .dataframe thead th {\n",
       "        text-align: right;\n",
       "    }\n",
       "</style>\n",
       "<table border=\"1\" class=\"dataframe\">\n",
       "  <thead>\n",
       "    <tr style=\"text-align: right;\">\n",
       "      <th></th>\n",
       "      <th>records</th>\n",
       "    </tr>\n",
       "  </thead>\n",
       "  <tbody>\n",
       "    <tr>\n",
       "      <th>0</th>\n",
       "      <td>{'name': 'Samantha Rodriguez', 'age': 19, 'str...</td>\n",
       "    </tr>\n",
       "    <tr>\n",
       "      <th>1</th>\n",
       "      <td>{'name': 'Stephen Le', 'age': 27, 'street': '9...</td>\n",
       "    </tr>\n",
       "    <tr>\n",
       "      <th>2</th>\n",
       "      <td>{'name': 'Brian Cuevas', 'age': 31, 'street': ...</td>\n",
       "    </tr>\n",
       "    <tr>\n",
       "      <th>3</th>\n",
       "      <td>{'name': 'Brett Spence', 'age': 44, 'street': ...</td>\n",
       "    </tr>\n",
       "    <tr>\n",
       "      <th>4</th>\n",
       "      <td>{'name': 'Emily Parker MD', 'age': 40, 'street...</td>\n",
       "    </tr>\n",
       "  </tbody>\n",
       "</table>\n",
       "</div>"
      ],
      "text/plain": [
       "                                             records\n",
       "0  {'name': 'Samantha Rodriguez', 'age': 19, 'str...\n",
       "1  {'name': 'Stephen Le', 'age': 27, 'street': '9...\n",
       "2  {'name': 'Brian Cuevas', 'age': 31, 'street': ...\n",
       "3  {'name': 'Brett Spence', 'age': 44, 'street': ...\n",
       "4  {'name': 'Emily Parker MD', 'age': 40, 'street..."
      ]
     },
     "execution_count": 26,
     "metadata": {},
     "output_type": "execute_result"
    }
   ],
   "source": [
    "df = pd.read_json('data.json')\r\n",
    "df.head()\r\n",
    "# Below results shows read_json can't load properly if the records are nested in a records dictionary"
   ]
  },
  {
   "cell_type": "code",
   "execution_count": 30,
   "metadata": {},
   "outputs": [
    {
     "data": {
      "text/html": [
       "<div>\n",
       "<style scoped>\n",
       "    .dataframe tbody tr th:only-of-type {\n",
       "        vertical-align: middle;\n",
       "    }\n",
       "\n",
       "    .dataframe tbody tr th {\n",
       "        vertical-align: top;\n",
       "    }\n",
       "\n",
       "    .dataframe thead th {\n",
       "        text-align: right;\n",
       "    }\n",
       "</style>\n",
       "<table border=\"1\" class=\"dataframe\">\n",
       "  <thead>\n",
       "    <tr style=\"text-align: right;\">\n",
       "      <th></th>\n",
       "      <th>name</th>\n",
       "      <th>age</th>\n",
       "      <th>street</th>\n",
       "      <th>city</th>\n",
       "      <th>state</th>\n",
       "      <th>zip</th>\n",
       "      <th>lng</th>\n",
       "      <th>lat</th>\n",
       "    </tr>\n",
       "  </thead>\n",
       "  <tbody>\n",
       "    <tr>\n",
       "      <th>0</th>\n",
       "      <td>Samantha Rodriguez</td>\n",
       "      <td>19</td>\n",
       "      <td>045 Russell Views Suite 342</td>\n",
       "      <td>South Jeffreyside</td>\n",
       "      <td>Connecticut</td>\n",
       "      <td>36709</td>\n",
       "      <td>-118.148404</td>\n",
       "      <td>-28.318006</td>\n",
       "    </tr>\n",
       "    <tr>\n",
       "      <th>1</th>\n",
       "      <td>Stephen Le</td>\n",
       "      <td>27</td>\n",
       "      <td>948 Hardin Trail</td>\n",
       "      <td>Bakerville</td>\n",
       "      <td>New Hampshire</td>\n",
       "      <td>91556</td>\n",
       "      <td>-34.202032</td>\n",
       "      <td>84.992442</td>\n",
       "    </tr>\n",
       "    <tr>\n",
       "      <th>2</th>\n",
       "      <td>Brian Cuevas</td>\n",
       "      <td>31</td>\n",
       "      <td>76547 Robert Corners</td>\n",
       "      <td>North Rebeccaville</td>\n",
       "      <td>Oklahoma</td>\n",
       "      <td>83425</td>\n",
       "      <td>63.995119</td>\n",
       "      <td>53.705333</td>\n",
       "    </tr>\n",
       "    <tr>\n",
       "      <th>3</th>\n",
       "      <td>Brett Spence</td>\n",
       "      <td>44</td>\n",
       "      <td>1977 Kathleen Cape</td>\n",
       "      <td>East Scottton</td>\n",
       "      <td>Massachusetts</td>\n",
       "      <td>39443</td>\n",
       "      <td>-60.316145</td>\n",
       "      <td>-28.727840</td>\n",
       "    </tr>\n",
       "    <tr>\n",
       "      <th>4</th>\n",
       "      <td>Emily Parker MD</td>\n",
       "      <td>40</td>\n",
       "      <td>77588 Robert Streets</td>\n",
       "      <td>Karenchester</td>\n",
       "      <td>Kentucky</td>\n",
       "      <td>64641</td>\n",
       "      <td>157.562940</td>\n",
       "      <td>-25.077534</td>\n",
       "    </tr>\n",
       "  </tbody>\n",
       "</table>\n",
       "</div>"
      ],
      "text/plain": [
       "                 name  age                       street                city  \\\n",
       "0  Samantha Rodriguez   19  045 Russell Views Suite 342   South Jeffreyside   \n",
       "1          Stephen Le   27             948 Hardin Trail          Bakerville   \n",
       "2        Brian Cuevas   31         76547 Robert Corners  North Rebeccaville   \n",
       "3        Brett Spence   44           1977 Kathleen Cape       East Scottton   \n",
       "4     Emily Parker MD   40         77588 Robert Streets        Karenchester   \n",
       "\n",
       "           state    zip         lng        lat  \n",
       "0    Connecticut  36709 -118.148404 -28.318006  \n",
       "1  New Hampshire  91556  -34.202032  84.992442  \n",
       "2       Oklahoma  83425   63.995119  53.705333  \n",
       "3  Massachusetts  39443  -60.316145 -28.727840  \n",
       "4       Kentucky  64641  157.562940 -25.077534  "
      ]
     },
     "execution_count": 30,
     "metadata": {},
     "output_type": "execute_result"
    }
   ],
   "source": [
    "import pandas.io.json as pd_JSON\r\n",
    "\r\n",
    "f = open('data.json', 'r')\r\n",
    "data = pd_JSON.loads(f.read())\r\n",
    "df = pd.json_normalize(data, record_path='records')\r\n",
    "df.head()"
   ]
  },
  {
   "cell_type": "code",
   "execution_count": 31,
   "metadata": {},
   "outputs": [
    {
     "data": {
      "text/plain": [
       "'{\"name\":{\"0\":\"Samantha Rodriguez\",\"1\":\"Stephen Le\"},\"age\":{\"0\":19,\"1\":27},\"street\":{\"0\":\"045 Russell Views Suite 342\",\"1\":\"948 Hardin Trail\"},\"city\":{\"0\":\"South Jeffreyside\",\"1\":\"Bakerville\"},\"state\":{\"0\":\"Connecticut\",\"1\":\"New Hampshire\"},\"zip\":{\"0\":\"36709\",\"1\":\"91556\"},\"lng\":{\"0\":-118.148404,\"1\":-34.202032},\"lat\":{\"0\":-28.3180065,\"1\":84.9924425}}'"
      ]
     },
     "execution_count": 31,
     "metadata": {},
     "output_type": "execute_result"
    }
   ],
   "source": [
    "df.head(2).to_json()\r\n",
    "# without orient parameter, which determins the format of JSON that is returned, the default is columns"
   ]
  },
  {
   "cell_type": "code",
   "execution_count": 32,
   "metadata": {},
   "outputs": [
    {
     "data": {
      "text/plain": [
       "'[{\"name\":\"Samantha Rodriguez\",\"age\":19,\"street\":\"045 Russell Views Suite 342\",\"city\":\"South Jeffreyside\",\"state\":\"Connecticut\",\"zip\":\"36709\",\"lng\":-118.148404,\"lat\":-28.3180065},{\"name\":\"Stephen Le\",\"age\":27,\"street\":\"948 Hardin Trail\",\"city\":\"Bakerville\",\"state\":\"New Hampshire\",\"zip\":\"91556\",\"lng\":-34.202032,\"lat\":84.9924425}]'"
      ]
     },
     "execution_count": 32,
     "metadata": {},
     "output_type": "execute_result"
    }
   ],
   "source": [
    "df.head(2).to_json(orient='records')"
   ]
  },
  {
   "cell_type": "code",
   "execution_count": null,
   "metadata": {},
   "outputs": [],
   "source": []
  },
  {
   "cell_type": "code",
   "execution_count": null,
   "metadata": {},
   "outputs": [],
   "source": []
  }
 ],
 "metadata": {
  "interpreter": {
   "hash": "db7f46b46362c221785a95cdac761ab447f938a0097ae7582d0caae135d010de"
  },
  "kernelspec": {
   "display_name": "Python 3.8.3 64-bit (conda)",
   "name": "python3"
  },
  "language_info": {
   "codemirror_mode": {
    "name": "ipython",
    "version": 3
   },
   "file_extension": ".py",
   "mimetype": "text/x-python",
   "name": "python",
   "nbconvert_exporter": "python",
   "pygments_lexer": "ipython3",
   "version": "3.8.3"
  }
 },
 "nbformat": 4,
 "nbformat_minor": 4
}